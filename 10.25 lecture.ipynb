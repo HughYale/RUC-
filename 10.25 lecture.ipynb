{
 "cells": [
  {
   "cell_type": "code",
   "execution_count": 1,
   "id": "22f71f8e",
   "metadata": {
    "ExecuteTime": {
     "end_time": "2022-10-25T14:58:19.767299Z",
     "start_time": "2022-10-25T14:58:19.317661Z"
    }
   },
   "outputs": [],
   "source": [
    "from textwrap import dedent\n",
    "import numpy as np\n",
    "from scipy.stats import norm\n",
    "from scipy.interpolate import InterpolatedUnivariateSpline\n",
    "import matplotlib.pyplot as plt\n",
    "from matplotlib.rcsetup import cycler\n",
    "import os    \n",
    "os.environ['KMP_DUPLICATE_LIB_OK'] = 'True'"
   ]
  },
  {
   "cell_type": "markdown",
   "id": "8d8a63da",
   "metadata": {},
   "source": [
    "## 离散化AR（1）过程 （Discretizing an Autoregressive Process with a Markov Chain）\n",
    "回顾一下我们之前学过的离散蛋糕选择模型（Stochastic Discrete Cake-Eating Problem）：\n",
    "\n",
    "你需要选择什么时候去选择吃蛋糕，以最大化自己的效用：\n",
    "$$ \\underset{\\{{E}, {N}\\}} {max} \\;\\  V(W, \\;\\ {\\epsilon})  $$\n",
    "\n",
    "$V$是一个值函数，其满足贝尔曼方程： $$ V(W, \\;\\  {\\epsilon}) = max\\{{\\epsilon}  u(W), \\;\\  \\beta \\underset{{\\epsilon}{{'}} | {\\epsilon}} E[V(\\rho W, \\;\\ {\\epsilon}')]\\} $$\n",
    "其中 $\\epsilon$ 是一个冲击（shock）。\n",
    "\n",
    "这里的冲击，我们通常认为是一个AR（1）过程，满足:\n",
    "$$\n",
    "\\epsilon_t - \\mu = \\rho(\\epsilon_{t-1}-\\mu)+u_t\n",
    "$$\n",
    "其中：$\\mu$是均值，$\\rho$是自相关系数。\n",
    "\n",
    "这个过程代入值函数模拟是非常复杂的，因为理论上他会有无穷种情况，一个比较常见的作法是将其离散化成多个状态，并给出不同状态之间的转移概率。\n",
    "\n",
    "即，如何将一个AR（1）过程离散化成马尔可夫链。\n",
    "\n",
    "通常采用的是Tauchen（1986）给出的方法。"
   ]
  },
  {
   "cell_type": "code",
   "execution_count": 2,
   "id": "a441e210",
   "metadata": {
    "ExecuteTime": {
     "end_time": "2022-10-25T14:58:21.038505Z",
     "start_time": "2022-10-25T14:58:21.023365Z"
    }
   },
   "outputs": [],
   "source": [
    "class CakeEating(object):\n",
    "    def __init__(self, beta=0.95, r = 0.95, gamma = 1, logutil=False,\n",
    "                     transition = [[1, 0], [0, 1]], shocks=[.8, 1.2],\n",
    "                     grid_max=2, grid_min = .4, grid_size=150):\n",
    "\n",
    "        self.r, self.beta, self.gamma = r, beta, gamma\n",
    "        self.transition = transition\n",
    "        self.shocks = shocks\n",
    "\n",
    "        if logutil == False:\n",
    "            self.u = lambda c: (c**(1 - gamma))/(1 - gamma)\n",
    "        else:\n",
    "            self.u = np.log\n",
    "            self.gamma = 1\n",
    "        self.grid = np.linspace(grid_min, grid_max, grid_size)\n",
    "        \n",
    "    def bellman_operator(self, w, compute_policy=False):\n",
    "\n",
    "        Aw = [InterpolatedUnivariateSpline(self.grid, w[i], k=3) for i in range(len(self.shocks))]\n",
    "        Awx = lambda y: np.asarray([function(y) for function in Aw]) \n",
    "        sigma = np.asarray([np.empty(len(w[0]))]*len(self.shocks))\n",
    "        Tw = np.asarray([np.empty(len(w[0]))]*len(self.shocks))\n",
    "\n",
    "        for i, x in enumerate(self.grid):\n",
    "            for j, e in enumerate(self.shocks):\n",
    "                u_now = self.u(e*x)\n",
    "                u_wait  = self.beta*np.dot(self.transition[j], Awx(self.r*x))\n",
    "                Tw[j][i] = max(u_now, u_wait)\n",
    "                sigma[j][i] = np.exp(u_wait - self.u(x))\n",
    "\n",
    "        return Tw, sigma\n",
    "\n",
    "    def plot(self):\n",
    "        w_guess = np.asarray([np.log(self.grid)]*len(self.shocks))\n",
    "        w_star = compute_fixed_point(self.bellman_operator, w_guess, max_iter=100000, verbose=1, error_tol=1e-3, print_skip=10)\n",
    "        sigma_star = self.bellman_operator(w_star)[1]\n",
    "\n",
    "        fig, ax = plt.subplots(2, 1, figsize =(8,10))\n",
    "        ax[0].set_xlabel(\"Cake Size\")\n",
    "        ax[1].set_xlabel(\"Cake Size\")\n",
    "        ax[0].set_ylabel(\"Value Function\")\n",
    "        ax[1].set_ylabel(\"Threshold shock\")\n",
    "\n",
    "        eating = [self.u(self.grid)*self.shocks[i] - .1  for i in range(len(self.shocks))] \n",
    "                                                                              \n",
    "\n",
    "\n",
    "        labels = [r'Shock {0:.2g}'.format(self.shocks[k]) for k in range(len(self.shocks))] \n",
    "        for i in range(len(self.shocks)):\n",
    "            ax[0].plot(self.grid, w_star[i], lw = 2, alpha = .8, label= labels[i])\n",
    "\n",
    "        ax[1].plot(self.grid, sigma_star[0], 'k-', lw = 2, alpha = .8)\n",
    "        ax[0].legend(loc = 'lower right')\n",
    "        t = 'Discrete Choice - Cake Problem'\n",
    "        fig.suptitle(t, fontsize=18)\n",
    "\n",
    "        plt.show()"
   ]
  },
  {
   "cell_type": "code",
   "execution_count": 3,
   "id": "2ef10fc6",
   "metadata": {
    "ExecuteTime": {
     "end_time": "2022-10-25T14:58:23.029493Z",
     "start_time": "2022-10-25T14:58:23.018299Z"
    }
   },
   "outputs": [],
   "source": [
    "def compute_fixed_point(T, v, error_tol=1e-3, max_iter=500,\n",
    "                            print_skip=25,verbose=True):#迭代计算\n",
    "        i = 0\n",
    "        error = error_tol + 1\n",
    "\n",
    "        while i < max_iter and error > error_tol:\n",
    "            new_v = T(v)[0]\n",
    "            i += 1\n",
    "            error = np.max(np.abs(new_v - v))\n",
    "            if verbose and i % print_skip == 0:\n",
    "                print(f\"第 {i}步收敛结果是  {error}.\")\n",
    "                \n",
    "            v = new_v\n",
    "        if i == max_iter:\n",
    "            print(\"收敛失败\")\n",
    "        if verbose and i < max_iter:\n",
    "            print(f\"\\n在第 {i} 步收敛\")\n",
    "\n",
    "\n",
    "        return v"
   ]
  },
  {
   "cell_type": "code",
   "execution_count": 4,
   "id": "027f4137",
   "metadata": {
    "ExecuteTime": {
     "end_time": "2022-10-25T14:58:24.507355Z",
     "start_time": "2022-10-25T14:58:24.487490Z"
    }
   },
   "outputs": [],
   "source": [
    "def approx_markov(rho, sigma_u, m=3, n=7):\n",
    "        F = norm(loc=0, scale=sigma_u).cdf\n",
    "\n",
    "        # standard deviation of y_t\n",
    "        std_y = np.sqrt(sigma_u**2 / (1-rho**2))\n",
    "        # top of discrete state space\n",
    "        x_max = m * std_y\n",
    "        # bottom of discrete state space\n",
    "        x_min = - x_max\n",
    "        # discretized state space\n",
    "        x = np.linspace(x_min, x_max, n)\n",
    "\n",
    "        step = (x_max - x_min) / (n - 1)\n",
    "        half_step = 0.5 * step\n",
    "        P = np.empty((n, n))\n",
    "\n",
    "        for i in range(n):\n",
    "            P[i, 0] = F(x[0]-rho * x[i] + half_step)\n",
    "            P[i, n-1] = 1 - F(x[n-1] - rho * x[i] - half_step)\n",
    "            for j in range(1, n-1):\n",
    "                z = x[j] - rho * x[i]\n",
    "                P[i, j] = F(z + half_step) - F(z - half_step)\n",
    "\n",
    "        return x, P"
   ]
  },
  {
   "cell_type": "code",
   "execution_count": 5,
   "id": "29f7db0b",
   "metadata": {
    "ExecuteTime": {
     "end_time": "2022-10-25T14:58:24.831802Z",
     "start_time": "2022-10-25T14:58:24.823801Z"
    }
   },
   "outputs": [
    {
     "name": "stdout",
     "output_type": "stream",
     "text": [
      "[[0.4012221  0.37231775 0.18651267 0.03994748]\n",
      " [0.22646015 0.37231775 0.29574128 0.10548081]\n",
      " [0.10548081 0.29574128 0.37231775 0.22646015]\n",
      " [0.03994748 0.18651267 0.37231775 0.4012221 ]] [0.74065367 0.90477042 1.10525276 1.3501587 ]\n"
     ]
    }
   ],
   "source": [
    "epsilon, trans = approx_markov(rho = .5, sigma_u=.2, n = 4, m=1.3)\n",
    "shocklist = np.exp(epsilon)\n",
    "discount = .95 \n",
    "shrink_rate = .95 \n",
    "\n",
    "\n",
    "gmin = .5\n",
    "gmax = 10\n",
    "print(trans,shocklist)"
   ]
  },
  {
   "cell_type": "code",
   "execution_count": null,
   "id": "bf3368df",
   "metadata": {
    "ExecuteTime": {
     "start_time": "2022-10-25T14:58:25.444Z"
    }
   },
   "outputs": [
    {
     "name": "stdout",
     "output_type": "stream",
     "text": [
      "第 10步收敛结果是  0.009055895433298433.\n",
      "第 20步收敛结果是  0.00569347217879046.\n",
      "第 30步收敛结果是  0.002876915324780016.\n",
      "第 40步收敛结果是  0.0009084317534089892.\n",
      "\n",
      "在第 40 步收敛\n"
     ]
    }
   ],
   "source": [
    "cp = CakeEating(logutil=True, transition=trans, grid_min=gmin, grid_max=gmax, \n",
    "                          shocks=shocklist, r=shrink_rate, beta=discount)\n",
    "cp.plot()"
   ]
  },
  {
   "cell_type": "markdown",
   "id": "31b406b8",
   "metadata": {},
   "source": [
    "## 模拟（Simulation）\n",
    "在经过值函数模拟这一大关，得到问题的策略方程后，模拟其实是一件相当简单的事情。"
   ]
  }
 ],
 "metadata": {
  "kernelspec": {
   "display_name": "Python 3",
   "language": "python",
   "name": "python3"
  },
  "language_info": {
   "codemirror_mode": {
    "name": "ipython",
    "version": 3
   },
   "file_extension": ".py",
   "mimetype": "text/x-python",
   "name": "python",
   "nbconvert_exporter": "python",
   "pygments_lexer": "ipython3",
   "version": "3.8.8"
  },
  "toc": {
   "base_numbering": 1,
   "nav_menu": {},
   "number_sections": true,
   "sideBar": true,
   "skip_h1_title": false,
   "title_cell": "Table of Contents",
   "title_sidebar": "Contents",
   "toc_cell": false,
   "toc_position": {},
   "toc_section_display": true,
   "toc_window_display": false
  }
 },
 "nbformat": 4,
 "nbformat_minor": 5
}
