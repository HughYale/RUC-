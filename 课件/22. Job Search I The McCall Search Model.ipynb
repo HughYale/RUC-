{
 "cells": [
  {
   "cell_type": "markdown",
   "id": "9c46f322",
   "metadata": {},
   "source": [
    "## 译者前言\n",
    "本篇讲稿从微观层面建立一个失业代理人的工作搜寻问题，并在之后的讲稿中不断补充细节。这个问题的一个典型的特点是：\n",
    "- 具备离散的状态空间和选择空间。\n",
    "- 通常是一个无限期问题（不过也有例外）\n",
    "- 代理人最大化一个奖励函数（折现因子可有可无）\n",
    "- 状态的转移涉及到马尔可夫过程\n",
    "\n",
    "具备以上特点的问题我们通常会称为动态离散选择问题（discrete dynamic programs或discrete DPs）。对于经济学研究中的很多问题都可以基于这样的框架进行建模。“动态离散选择模型”之父John Rust在其著作《Numerical Dynamic Programming in Economics》对这类问题有着很详细且系统的研究(偏数理，并不适合入门)。事实上，离散选择过程（Discrete Decision Process，DDP）就是一类特殊的马尔可夫决策过程（Markov Decision Process，MDP）——其要求对每个状态空间，动作的个数是有限的。而我们在家庭储蓄消费模型中对于消费的选择，可以看作是一类连续选择过程（Continuous Decision Process，CDP）,其也可以看作是MDP的一类特例。\n",
    "\n",
    "那么什么是马尔可夫决策过程？在经济学的研究中，这或许是一个陌生的名词，但对于数学以及人工智能领域却相当基础——尤其是强化学习（Reinforcement Learning）。感兴趣的同学可以去了解马尔可夫决策过程的具体定义，你可以简单理解为在马尔可夫过程中引入了决策，其可以影响到状态转移的概率。我们常见的各种经济学模型大都可以纳入这样的范畴，对奖励函数，状态和动作空间结合经济学知识进行具体化。Rust在1996年就写出了上面的那本书，而后续的经济学研究者（直至今日）也都是在具体化上面下功夫，使其更多地符合现实，更多地匹配数据。但MDP这一框架本身真的是那么完美吗？在强化学习领域中，MDP是一个相当Naǐve的入门级模型，因为其所有的状态是可见的（这也很符合economist的建模习惯，模型的机制必须是清楚可解释的）。但事实上呢？首先身为建模者的我们并不一定能对整个环境和代理人之间的交互有一个准确的认识，其次，代理人本身也对环境的认知也并不完全(partially，例：隐式马尔可夫链（POMDP）)，甚至有可能是错误的（需要后续与环境的交互进行纠正例：自适应性学习（adaptive learning））。\n",
    "\n",
    "强化学习之父Richard Sutton在其教材《强化学习》中说到 \"Reinforcement learning is learning what to do——how to map situations to actions——so as to maximize a numerical reward signal.\"即一个智能体如何在环境中采取一系列行为，从而获得最大的累积回报。这样的思想与经济学的最大化效用是不谋而合的。实际上，机器学习已经掀起了在经济学研究中的技术革命，正如有（无、半）监督学习被用于计量中的特征提取和因果推断，强化学习也应当在结构建模以及博弈论等涉及到智能体构建的经济问题中有着更为深远的应用。\n",
    "\n",
    "以上是译者对于后面讲稿的一些感想，由于水平有限，如有纰漏，希望各位读者指出，如果您对我的相反感兴趣，也欢迎邮箱和我交流。\n",
    "## 目录\n",
    "- 概览\n",
    "- McCall模型\n",
    "- 计算最优策略：法1\n",
    "- 比较静态分析（Comparative Statics）\n",
    "- 计算最优策略：法2\n",
    "- 练习\n",
    "- 解答"
   ]
  },
  {
   "cell_type": "markdown",
   "id": "98980b7d",
   "metadata": {},
   "source": [
    "## 概览\n",
    "McCall搜寻模型帮助经济学家改变了对劳动力市场的思考方式。\n",
    "\n",
    "为了纠正像“非自愿失业”这样模糊的概念，McCall建立了一个失业代理人的决策问题，其考虑了以下因素：\n",
    "- 当前和未来可能的工资\n",
    "- 不耐心程度\n",
    "- 失业补偿金\n",
    "\n",
    "为了解决这个决策问题，他使用了动态规划的工具。\n",
    "\n",
    "这里，我们建立一个McCall的模型，并且采用相同的求解方法。\n",
    "\n",
    "我们将会看到，McCall模型不仅本身很有趣，还是学习动态规划的一个极好的工具。\n",
    "\n",
    "让我们从一些import开始："
   ]
  },
  {
   "cell_type": "code",
   "execution_count": 1,
   "id": "f384a9b9",
   "metadata": {
    "ExecuteTime": {
     "end_time": "2021-09-25T03:47:35.095688Z",
     "start_time": "2021-09-25T03:47:32.594466Z"
    }
   },
   "outputs": [],
   "source": [
    "%matplotlib inline\n",
    "import matplotlib.pyplot as plt\n",
    "plt.rcParams[\"figure.figsize\"] = (11, 5)  #set default figure size\n",
    "import numpy as np\n",
    "from numba import jit, float64\n",
    "from numba.experimental import jitclass\n",
    "import quantecon as qe\n",
    "from quantecon.distributions import BetaBinomial"
   ]
  },
  {
   "cell_type": "markdown",
   "id": "ccf89c52",
   "metadata": {},
   "source": [
    "## McCall模型\n",
    "一个失业的代理人在每期会收到一个工资为$w_t$的offer。\n",
    "\n",
    "工资大小是一个有关一些潜在状态变量的一个非负的函数：\n",
    "$$\n",
    "w_t = w(s_t) \\quad \\text{where } \\; s_t \\in \\mathbb{S}\n",
    "$$\n",
    "\n",
    "这里我们认为状态变量是一些影响工资的潜在的的，未知的随机因素。\n",
    "\n",
    "（引入外生的随机状态过程是经济学家向模型中引入随机性的标准做法之一。）\n",
    "\n",
    "在本篇讲座当中，我们假设以下的一个简单的环境：\n",
    "- $\\{s)t\\}$满足IID分布，其中$q(s)$是在每期观察到$s \\in \\mathbb{S}$状态的概率。\n",
    "- 代理人在t期开始时观察到$s_t$，并因此知道$w_t = w(s_t)$。\n",
    "- 集合$\\mathbb{S}$是有限的。\n",
    "（在之后的讲座中，我们将会放松这些假设）\n",
    "\n",
    "在$t$期,我们的代理人有两种选择：\n",
    "1. 接受这个offer并且以工资$w_t$永远的工作下去\n",
    "2. 拒绝这个offer，接受失业补偿金$c$，并且在下一期重新考虑。\n",
    "\n",
    "代理人将无限期的存辉，并且意图最大化总收益的折现值：\n",
    "$$\n",
    "\\mathbb{E}\\sum_{t = 0}^{\\infty} = \\beta^ty_t\n",
    "$$\n",
    "常数$\\beta \\in (0,1)$，被称作折现因子（discount factor）\n",
    "\n",
    "$\\beta$越小，代理人在未来获得的效用的折现就会越少。\n",
    "\n",
    "变量$y_t$是收入，其等于：\n",
    "- 当他被雇佣时，是工资$w_t$\n",
    "- 当他仍然处于失业时，是就业补偿金$c$\n",
    "\n",
    "假设代理人知道$\\{s_t\\}$是满足IID，且具有相同的分布q；并且可以利用这点计算期望。\n",
    "\n",
    "### 权衡取舍（a Trade-Off）\n",
    "工人面临一项权衡取舍：\n",
    "- 花费太长时间去等待一项好的offer代价较大，因为未来的效用需要进行折现。\n",
    "- 太早地接受offer同样需要付出代价，因为未来可能会有更好的offer。\n",
    "\n",
    "在面临权衡问题上进行最优决策，我们就要用到动态规划。\n",
    "\n",
    "动态规划可以认为是由两步组成：\n",
    "1. 首先为在“状态”进行赋值，\n",
    "2. 然后根据给定的值推断出最佳的决策。\n",
    "\n",
    "我们将按顺序进行这些步骤。\n",
    "### 值函数\n",
    "为了在现在和未来收益的权衡取舍下做出最优选择，我们需要去思考以下两个问题：\n",
    "1. 我们在不同选择下获得的当前回报\n",
    "2. 这些选择所导致的下一期的状态变量（在这个例子中，就是失业和就业两种状态）\n",
    "\n",
    "为了权衡决策模型的这两个问题，我们需要对状态进行赋值。\n",
    "\n",
    "因此，令$v^*(s)$等于一个失业工人在$s \\in \\mathbb{S}$时的终身总价值。\n",
    "\n",
    "特别地，代理人手上有一个工资为$w(s)$的offer。\n",
    "\n",
    "更加准确的说，$v^*(s)$表示当代理人在当前和未来所有时间点都做出最优决策时的目标效用函数（$\\mathbb {E}\\sum_{t = 0}^{\\infty}\\beta^tu(y_t)$）的值。\n",
    "\n",
    "当然，$v^*(s)$并不是那么容易去计算，因为你并不知道哪些决策是最优的。\n",
    "\n",
    "但是我们将$v^*$视作每个可能的状态变量$s$下手里的offer可以获得的最大化的终身价值。\n",
    "\n",
    "一个重要的发现是这个函数$v^*$必须满足如下的递归：\n",
    "$$\n",
    "v^*(s)\n",
    "= \\max \\left\\{\n",
    "        \\frac{w(s)}{1 - \\beta}, \\, c + \\beta\n",
    "        \\sum_{s' \\in \\mathbb{S}} v^*(s') q (s')\n",
    "    \\right\\} \n",
    "$$\n",
    "\n",
    "上式对于对于任意的$s \\in \\mathbb{S}$都满足。\n",
    "\n",
    "这个重要的等式便是**贝尔曼方程（Bellman Equation）** 的一个版本，这在动态经济学和其他规划问题的领域中无处不在。\n",
    "\n",
    "这个式子背后的直觉是：\n",
    "- 最大化式子中的第一个部分代表接受当前offer的终身效益，因为：\n",
    "$$\n",
    "\\frac{w(s)}{1 - \\beta} = w(s) + \\beta w(s) + \\beta^2 w(s) + \\cdots\n",
    "$$\n",
    "- 二第二个部分则是**延拓值（continuation value）** ，其是拒绝掉这个offer并在接下来的时期都做出最佳决策所得到的终身效益。\n",
    "\n",
    "给定当前的状态变量$s$，如果我们做出了最优决策我们就可以计算出从今天开始的的最大化终身效用。\n",
    "\n",
    "### 最优策略\n",
    "假设我们现在可以计算出未知的函数$v^*$。\n",
    "\n",
    "一旦我们有了这个函数形式，我们就可以做出最优决策（即在接受和拒绝offer之间做出正确的选择）。\n",
    "\n",
    "所有我们需要去做的就是选择使得22.1的右式最大化的决策。\n",
    "\n",
    "最优的决策被认为是一种策略（policy），其被认为是从状态变量到决策的映射。\n",
    "\n",
    "给定任意的$s$，我们可以通过选择22.1等式右边的最大值来读出我们的最佳决策。\n",
    "\n",
    "因此，我们有一个从$\\mathbb{R}$到$\\{0,1\\}$的映射，其中1表示接受，0表示拒绝。\n",
    "\n",
    "我们可以将策略函数写成下面的形式：\n",
    "$$\n",
    "\\sigma(s) := \\mathbf{1}\n",
    "    \\left\\{\n",
    "        \\frac{w(s)}{1 - \\beta} \\geq c + \\beta \\sum_{s' \\in \\mathbb S}\n",
    "        v^*(s') q (s')\n",
    "    \\right\\}\n",
    "$$\n",
    "\n",
    "其中$ \\mathbf{1}\\{ P \\} = 1 $是指示函数（indicator function），表示如果$P$成立，则等于1，否则等于0。\n",
    "\n",
    "我们也可以写作：\n",
    "$$\n",
    "\\sigma(s) := \\mathbf{1} \\{ w(s) \\geq \\bar w \\}\n",
    "$$\n",
    "其中：\n",
    "$$\n",
    "\\bar w := (1 - \\beta) \\left\\{ c + \\beta \\sum_{s'} v^*(s') q (s') \\right\\} \n",
    "$$\n",
    "\n",
    "这里$\\bar w$（称作保留价格（reservation wage））是一个与$\\beta,c$和工资的概率分布相关的常数。\n",
    "\n",
    "代理人应该接受这个offer当且仅当现在offer的工资超过保留价格。\n",
    "\n",
    "因此，如果我们能计算出值函数，我们也能计算出保留价格。\n",
    "\n",
    "## 计算最优策略：法1\n",
    "为了将上述的思想付诸于行动，我们需要计算每个可能的状态$s \\in \\mathbb{S}$的值函数。\n",
    "\n",
    "我们假设$\\mathbb{S} = \\{1,\\cdots,n\\}$。\n",
    "\n",
    "则我们使用$v^* = (v^*(i))^n_{i=1}$来表示一系列值函数。\n",
    "\n",
    "由22.1可知，这个向量满足如下的一个非线性系统：\n",
    "$$\n",
    "v^*(i)\n",
    "= \\max \\left\\{\n",
    "        \\frac{w(i)}{1 - \\beta}, \\, c + \\beta \\sum_{1 \\leq j \\leq n}\n",
    "            v^*(j) q (j)\n",
    "    \\right\\}\n",
    "\\quad\n",
    "\\text{for } i = 1, \\ldots, n \n",
    "$$\n",
    "\n",
    "### 算法\n",
    "为了计算这组向量，我们使用逐次逼近法（successive approximations）：\n",
    "\n",
    "step 1：任意假设一个$v \\in \\mathbb{R}^n$的初值。\n",
    "\n",
    "step 2：利用下式计算出新的向量$v' \\in \\mathbb{R}^n$:\n",
    "$$\n",
    "v'(i)\n",
    "= \\max \\left\\{\n",
    "        \\frac{w(i)}{1 - \\beta}, \\, c + \\beta \\sum_{1 \\leq j \\leq n}\n",
    "            v(j) q (j)\n",
    "    \\right\\}\n",
    "\\quad\n",
    "\\text{for } i = 1, \\ldots, n \n",
    "$$\n",
    "\n",
    "step 3：计算一个关于$v$和$v'$之间的偏差的度量，例如$\\max_i |v(i)-v'(i)|$\n",
    "\n",
    "step 4：如果这个偏差大于某个固定的临界值，令$v = v'$并且回到step 2，如果不是，则继续下一步\n",
    "\n",
    "step 5：输出$v$\n",
    "\n",
    "当临界值取得足够小时，输出的函数$v$就会很近似于值函数$v^*$。\n",
    "\n",
    "下面的理论解释了这一点。\n",
    "\n",
    "### 不动点定理\n",
    "上述这个想法背后的数学原理是什么呢？\n",
    "\n",
    "首先，我们定义了一个从$\\mathbb{R^n}$到其自身的一个映射T：\n",
    "$$\n",
    "(Tv)(i)\n",
    "= \\max \\left\\{\n",
    "        \\frac{w(i)}{1 - \\beta}, \\, c + \\beta \\sum_{1 \\leq j \\leq n}\n",
    "            v(j) q (j)\n",
    "    \\right\\}\n",
    "\\quad\n",
    "\\text{for } i = 1, \\ldots, n \n",
    "$$\n",
    "\n",
    "逐次逼近法序列$\\{v_k\\}$中的元素$v_k$相当于$T^kv$\n",
    "- 这是从初值$v$开始，将T进行迭代$k$次后得到的。\n",
    "\n",
    "可以证明$\\mathbb{R}^n$上的$T$映射满足**巴拿赫不动点定理（Banach fixed point theorem）,也叫压缩映射定理** \n",
    "\n",
    "一个推论就是$T$在$\\mathbb{R}^n$上有一个唯一的不动点。\n",
    "- 即一个唯一的向量$\\bar v$满足$T\\bar v = \\bar v$\n",
    "\n",
    "第二个关于巴拿赫不动点定理的推论就是无论初值$v$的取值，$\\{T^kv\\}$一定会收敛到不动点$v^*$。\n",
    "\n",
    "### 实现\n",
    "我们默认分布$q$满足$\\beta$-二项式分布："
   ]
  },
  {
   "cell_type": "code",
   "execution_count": 2,
   "id": "de8c448e",
   "metadata": {
    "ExecuteTime": {
     "end_time": "2021-09-25T03:47:36.119029Z",
     "start_time": "2021-09-25T03:47:36.100092Z"
    }
   },
   "outputs": [],
   "source": [
    "n, a, b = 50, 200, 100                        # default parameters\n",
    "q_default = BetaBinomial(n, a, b).pdf()       # default choice of q"
   ]
  },
  {
   "cell_type": "markdown",
   "id": "b271fa62",
   "metadata": {},
   "source": [
    "我们默认工资的集合是："
   ]
  },
  {
   "cell_type": "code",
   "execution_count": 3,
   "id": "b6dda813",
   "metadata": {
    "ExecuteTime": {
     "end_time": "2021-09-25T03:48:16.049000Z",
     "start_time": "2021-09-25T03:48:16.034042Z"
    }
   },
   "outputs": [],
   "source": [
    "w_min, w_max = 10, 60\n",
    "w_default = np.linspace(w_min, w_max, n+1)"
   ]
  },
  {
   "cell_type": "markdown",
   "id": "e6b90171",
   "metadata": {},
   "source": [
    "下图表示了不同工资收入及其概率："
   ]
  },
  {
   "cell_type": "code",
   "execution_count": 4,
   "id": "b1eeaeb9",
   "metadata": {
    "ExecuteTime": {
     "end_time": "2021-09-25T03:48:54.904474Z",
     "start_time": "2021-09-25T03:48:54.748341Z"
    }
   },
   "outputs": [
    {
     "data": {
      "image/png": "[encoded data removed]",
      "text/plain": [
       "<Figure size 792x360 with 1 Axes>"
      ]
     },
     "metadata": {
      "needs_background": "light"
     },
     "output_type": "display_data"
    }
   ],
   "source": [
    "fig, ax = plt.subplots()\n",
    "ax.plot(w_default, q_default, '-o', label='$q(w(i))$')\n",
    "ax.set_xlabel('wages')\n",
    "ax.set_ylabel('probabilities')\n",
    "\n",
    "plt.show()"
   ]
  },
  {
   "cell_type": "markdown",
   "id": "d1995175",
   "metadata": {},
   "source": [
    "我们将使用Numba去加速我们的代码：\n",
    "\n",
    "首先我们需要帮助Numba识别变量类型："
   ]
  },
  {
   "cell_type": "code",
   "execution_count": 5,
   "id": "62ffad76",
   "metadata": {
    "ExecuteTime": {
     "end_time": "2021-09-25T03:53:52.571716Z",
     "start_time": "2021-09-25T03:53:52.560755Z"
    }
   },
   "outputs": [],
   "source": [
    "mccall_data = [\n",
    "    ('c', float64),      # unemployment compensation\n",
    "    ('β', float64),      # discount factor\n",
    "    ('w', float64[:]),   # array of wage values, w[i] = wage at state i\n",
    "    ('q', float64[:])    # array of probabilities\n",
    "]"
   ]
  },
  {
   "cell_type": "markdown",
   "id": "86ffb65f",
   "metadata": {},
   "source": [
    "这是一个存储数据并且在给定当前状态和任意可行的动作后计算状态-动作序列的一个类，即贝尔曼方程22.4等式右边中最大化符号内部的值。\n",
    "\n",
    "默认参数的值嵌入在类的定义当中。"
   ]
  },
  {
   "cell_type": "code",
   "execution_count": 6,
   "id": "0abf785e",
   "metadata": {
    "ExecuteTime": {
     "end_time": "2021-09-25T03:56:50.726506Z",
     "start_time": "2021-09-25T03:56:50.713541Z"
    }
   },
   "outputs": [],
   "source": [
    "@jitclass(mccall_data)\n",
    "class McCallModel:\n",
    "\n",
    "    def __init__(self, c=25, β=0.99, w=w_default, q=q_default):\n",
    "\n",
    "        self.c, self.β = c, β\n",
    "        self.w, self.q = w_default, q_default\n",
    "\n",
    "    def state_action_values(self, i, v):\n",
    "        \"\"\"\n",
    "        The values of state-action pairs.\n",
    "        \"\"\"\n",
    "        # Simplify names\n",
    "        c, β, w, q = self.c, self.β, self.w, self.q\n",
    "        # Evaluate value for each state-action pair\n",
    "        # Consider action = accept or reject the current offer\n",
    "        accept = w[i] / (1 - β)\n",
    "        reject = c + β * np.sum(v * q)\n",
    "\n",
    "        return np.array([accept, reject])"
   ]
  },
  {
   "cell_type": "markdown",
   "id": "9a63b75e",
   "metadata": {},
   "source": [
    "在这些设定下，我们试着画出序列$\\{T^kv\\}$的前几个近似的值函数。\n",
    "\n",
    "我们初始对$v$的猜测是$v(i) = w(i)/(1-\\beta)$，这是对任意的offer工资都会选择接受的值。\n",
    "\n",
    "下面是实现他的函数："
   ]
  },
  {
   "cell_type": "code",
   "execution_count": 7,
   "id": "95923023",
   "metadata": {
    "ExecuteTime": {
     "end_time": "2021-09-25T03:59:13.818003Z",
     "start_time": "2021-09-25T03:59:13.804504Z"
    }
   },
   "outputs": [],
   "source": [
    "def plot_value_function_seq(mcm, ax, num_plots=6):\n",
    "    \"\"\"\n",
    "    Plot a sequence of value functions.\n",
    "\n",
    "        * mcm is an instance of McCallModel\n",
    "        * ax is an axes object that implements a plot method.\n",
    "\n",
    "    \"\"\"\n",
    "\n",
    "    n = len(mcm.w)\n",
    "    v = mcm.w / (1 - mcm.β)\n",
    "    v_next = np.empty_like(v)\n",
    "    for i in range(num_plots):\n",
    "        ax.plot(mcm.w, v, '-', alpha=0.4, label=f\"iterate {i}\")\n",
    "        # Update guess\n",
    "        for i in range(n):\n",
    "            v_next[i] = np.max(mcm.state_action_values(i, v))\n",
    "        v[:] = v_next  # copy contents into v\n",
    "\n",
    "    ax.legend(loc='lower right')"
   ]
  },
  {
   "cell_type": "markdown",
   "id": "b1d57259",
   "metadata": {},
   "source": [
    "现在我们创造一个McCallModel的实例，并且调用这个函数："
   ]
  },
  {
   "cell_type": "code",
   "execution_count": 8,
   "id": "21078524",
   "metadata": {
    "ExecuteTime": {
     "end_time": "2021-09-25T04:00:10.965285Z",
     "start_time": "2021-09-25T04:00:10.229347Z"
    }
   },
   "outputs": [
    {
     "data": {
      "image/png": "[encoded data removed]",
      "text/plain": [
       "<Figure size 792x360 with 1 Axes>"
      ]
     },
     "metadata": {
      "needs_background": "light"
     },
     "output_type": "display_data"
    }
   ],
   "source": [
    "mcm = McCallModel()\n",
    "\n",
    "fig, ax = plt.subplots()\n",
    "ax.set_xlabel('wage')\n",
    "ax.set_ylabel('value')\n",
    "plot_value_function_seq(mcm, ax)\n",
    "plt.show()"
   ]
  },
  {
   "cell_type": "markdown",
   "id": "51c44170",
   "metadata": {},
   "source": [
    "从上图中可以看到收敛正在发生：逐次迭代的结果在不断的接近。\n",
    "\n",
    "我们采用一个更严格的迭代来计算极限，他会一直持续迭代直至两次迭代之间的测量误差小于临界值。\n",
    "\n",
    "我们将使用Numba的JIT编译来加速循环。"
   ]
  },
  {
   "cell_type": "code",
   "execution_count": 9,
   "id": "38bdb589",
   "metadata": {
    "ExecuteTime": {
     "end_time": "2021-09-25T04:17:56.173326Z",
     "start_time": "2021-09-25T04:17:56.161366Z"
    }
   },
   "outputs": [],
   "source": [
    "@jit(nopython=True)\n",
    "def compute_reservation_wage(mcm,\n",
    "                             max_iter=500,\n",
    "                             tol=1e-6):\n",
    "\n",
    "    # Simplify names\n",
    "    c, β, w, q = mcm.c, mcm.β, mcm.w, mcm.q\n",
    "\n",
    "    # == First compute the value function == #\n",
    "\n",
    "    n = len(w)\n",
    "    v = w / (1 - β)          # initial guess\n",
    "    v_next = np.empty_like(v)\n",
    "    i = 0\n",
    "    error = tol + 1\n",
    "    while i < max_iter and error > tol:\n",
    "\n",
    "        for i in range(n):\n",
    "            v_next[i] = np.max(mcm.state_action_values(i, v))\n",
    "\n",
    "        error = np.max(np.abs(v_next - v))\n",
    "        i += 1\n",
    "\n",
    "        v[:] = v_next  # copy contents into v\n",
    "\n",
    "    # == Now compute the reservation wage == #\n",
    "\n",
    "    return (1 - β) * (c + β * np.sum(v * q))"
   ]
  },
  {
   "cell_type": "markdown",
   "id": "d05ba9e1",
   "metadata": {},
   "source": [
    "下一行代码计算了在当前设定下的保留价格。"
   ]
  },
  {
   "cell_type": "code",
   "execution_count": 10,
   "id": "e9bf5543",
   "metadata": {
    "ExecuteTime": {
     "end_time": "2021-09-25T04:18:29.959561Z",
     "start_time": "2021-09-25T04:18:29.411622Z"
    }
   },
   "outputs": [
    {
     "data": {
      "text/plain": [
       "47.316499710024964"
      ]
     },
     "execution_count": 10,
     "metadata": {},
     "output_type": "execute_result"
    }
   ],
   "source": [
    "compute_reservation_wage(mcm)"
   ]
  },
  {
   "cell_type": "markdown",
   "id": "e6ef4bb2",
   "metadata": {},
   "source": [
    "## 比较静态分析（Comparative Statics）\n",
    "我们已经知道了如何去计算保留价格，现在让我们看看他是如何随参数变化而变化。\n",
    "\n",
    "特别地，我们看看当$\\beta$和$c$变化时会发生什么："
   ]
  },
  {
   "cell_type": "code",
   "execution_count": 11,
   "id": "08082929",
   "metadata": {
    "ExecuteTime": {
     "end_time": "2021-09-25T04:23:56.600294Z",
     "start_time": "2021-09-25T04:23:56.215477Z"
    }
   },
   "outputs": [],
   "source": [
    "grid_size = 25\n",
    "R = np.empty((grid_size, grid_size))\n",
    "\n",
    "c_vals = np.linspace(10.0, 30.0, grid_size)\n",
    "β_vals = np.linspace(0.9, 0.99, grid_size)\n",
    "\n",
    "for i, c in enumerate(c_vals):\n",
    "    for j, β in enumerate(β_vals):\n",
    "        mcm = McCallModel(c=c, β=β)\n",
    "        R[i, j] = compute_reservation_wage(mcm)"
   ]
  },
  {
   "cell_type": "code",
   "execution_count": 15,
   "id": "8df42507",
   "metadata": {
    "ExecuteTime": {
     "end_time": "2021-09-25T04:24:18.779846Z",
     "start_time": "2021-09-25T04:24:18.584679Z"
    }
   },
   "outputs": [
    {
     "data": {
      "image/png": "[encoded data removed]",
      "text/plain": [
       "<Figure size 792x360 with 2 Axes>"
      ]
     },
     "metadata": {
      "needs_background": "light"
     },
     "output_type": "display_data"
    }
   ],
   "source": [
    "fig, ax = plt.subplots()\n",
    "\n",
    "cs1 = ax.contourf(c_vals, β_vals, R.T, alpha=0.75)\n",
    "ctr1 = ax.contour(c_vals, β_vals, R.T)\n",
    "\n",
    "plt.clabel(ctr1, inline=1, fontsize=13)\n",
    "plt.colorbar(cs1, ax=ax)\n",
    "\n",
    "\n",
    "ax.set_title(\"reservation wage\")\n",
    "ax.set_xlabel(\"$c$\", fontsize=16)\n",
    "ax.set_ylabel(\"$β$\", fontsize=16)\n",
    "\n",
    "ax.ticklabel_format(useOffset=False)\n",
    "\n",
    "plt.show()"
   ]
  },
  {
   "cell_type": "markdown",
   "id": "a0f5e98e",
   "metadata": {},
   "source": [
    "和期望的一样，保留价格随着你的耐心程度和失业补偿金的增加而增加。"
   ]
  },
  {
   "cell_type": "markdown",
   "id": "d134d2c8",
   "metadata": {},
   "source": [
    "## 计算最优策略：法2\n",
    "前面叙述的动态规划方法时非常标准和具有普适性的。\n",
    "\n",
    "对于这个特殊的为题，也有一个非常简单的方法，他可以避免对值函数进行计算。\n",
    "\n",
    "令$h$表示延拓值：\n",
    "$$\n",
    "h\n",
    "= c + \\beta\n",
    "    \\sum_{s'} v^*(s') q (s')\n",
    "\\quad \n",
    "$$\n",
    "\n",
    "则贝尔曼方程可以写作：\n",
    "$$\n",
    "v^*(s')\n",
    "= \\max \\left\\{ \\frac{w(s')}{1 - \\beta}, \\, h \\right\\}\n",
    "$$\n",
    "\n",
    "带入到22.6式中可以得到：\n",
    "$$\n",
    "h\n",
    "= c + \\beta\n",
    "    \\sum_{s' \\in \\mathbb S}\n",
    "    \\max \\left\\{\n",
    "        \\frac{w(s')}{1 - \\beta}, h\n",
    "    \\right\\}  q (s')\n",
    "\\quad \n",
    "$$\n",
    "\n",
    "这是一个非线性方程，我们可以求出$h$。\n",
    "\n",
    "和之前一样，我们将采用逐次逼近法。\n",
    "step 1：任意假设一个$h$的初值。\n",
    "\n",
    "step 2：利用下式计算出新的向量$h'$:\n",
    "$$\n",
    "h'\n",
    "= c + \\beta\n",
    "    \\sum_{s' \\in \\mathbb S}\n",
    "    \\max \\left\\{\n",
    "        \\frac{w(s')}{1 - \\beta}, h\n",
    "    \\right\\}  q (s')\n",
    "$$\n",
    "\n",
    "step 3：计算偏差$|h-h'|$\n",
    "\n",
    "step 4：如果这个偏差大于某个固定的临界值，令$h = h'$并且回到step 2，如果不是，则输出$h$。\n",
    "\n",
    "同样的，我们可以使用压缩映射定理证明这样的过程总是收敛的。\n",
    "\n",
    "但与之前的方法最大的不同在于我们只需要对一个单一的值进行迭代而不是一组$n$维的向量。\n",
    "\n",
    "这是他的实现过程：\n"
   ]
  },
  {
   "cell_type": "code",
   "execution_count": 16,
   "id": "c350d39b",
   "metadata": {
    "ExecuteTime": {
     "end_time": "2021-09-25T04:45:27.291382Z",
     "start_time": "2021-09-25T04:45:27.278917Z"
    }
   },
   "outputs": [],
   "source": [
    "@jit(nopython=True)\n",
    "def compute_reservation_wage_two(mcm,\n",
    "                                 max_iter=500,\n",
    "                                 tol=1e-5):\n",
    "\n",
    "    # Simplify names\n",
    "    c, β, w, q = mcm.c, mcm.β, mcm.w, mcm.q\n",
    "\n",
    "    # == First compute h == #\n",
    "\n",
    "    h = np.sum(w * q) / (1 - β)\n",
    "    i = 0\n",
    "    error = tol + 1\n",
    "    while i < max_iter and error > tol:\n",
    "\n",
    "        s = np.maximum(w / (1 - β), h)\n",
    "        h_next = c + β * np.sum(s * q)\n",
    "\n",
    "        error = np.abs(h_next - h)\n",
    "        i += 1\n",
    "\n",
    "        h = h_next\n",
    "\n",
    "    # == Now compute the reservation wage == #\n",
    "\n",
    "    return (1 - β) * h"
   ]
  },
  {
   "cell_type": "markdown",
   "id": "03bb13b8",
   "metadata": {},
   "source": [
    "你可以使用这个方法去完成下面的练习："
   ]
  },
  {
   "cell_type": "markdown",
   "id": "f0cabb12",
   "metadata": {},
   "source": [
    "## 练习\n",
    "### 练习1\n",
    "当$\\beta = 0.99$,$c$取值如下时，计算失业的平均持续时间："
   ]
  },
  {
   "cell_type": "code",
   "execution_count": 17,
   "id": "dc801a8f",
   "metadata": {
    "ExecuteTime": {
     "end_time": "2021-09-25T04:54:22.736383Z",
     "start_time": "2021-09-25T04:54:22.721435Z"
    }
   },
   "outputs": [],
   "source": [
    "c_vals = np.linspace(10, 40, 25)"
   ]
  },
  {
   "cell_type": "markdown",
   "id": "20648968",
   "metadata": {},
   "source": [
    "也就是说，将代理人初始设置为失业人员，在给定参数的情况下计算他们的保留价格，然后模拟他们接受offer所花费的时间。\n",
    "\n",
    "你需要进行大量多次的模拟并取平均值。\n",
    "\n",
    "画出平均失业持续时间和$c$的关系。\n",
    "\n",
    "### 练习2 \n",
    "这个练习的目的时说明如何将离散的工资分布转换成连续的。\n",
    "\n",
    "这是一个很重要的问题，因为很多实用的分布都是连续的。（比如密度）\n",
    "\n",
    "幸运的时，这个理论只需要在我们的简单模型上进行一些微小的改动。\n",
    "\n",
    "回想一下，22.6式子中的$h$表示在当期不接受offer并且在之后所有时期都做出最佳选择的效益。\n",
    "\n",
    "为了将其转换成连续型的分布，我们只需要将22，6式变成如下形式：\n",
    "$$\n",
    "h\n",
    "= c + \\beta\n",
    "    \\int v^*(s') q (s') ds'.\n",
    "\\quad \n",
    "$$\n",
    "\n",
    "那么式22.7变成：\n",
    "$$\n",
    "h\n",
    "= c + \\beta\n",
    "    \\int\n",
    "    \\max \\left\\{\n",
    "        \\frac{w(s')}{1 - \\beta}, h\n",
    "    \\right\\}  q (s') d s'\n",
    "\\quad \n",
    "$$\n",
    "\n",
    "我们要通过迭代法来求解这一非线性方程，并从中计算出保留工资。\n",
    "\n",
    "试着将这道题解决，令：\n",
    "- 状态变量$\\{s_t\\}$是满足正态分布的IID过程\n",
    "- 工资函数的形式是：$w(s) = \\exp{(\\mu+ \\sigma s)}$\n",
    "\n",
    "你将要实现一个McCall类的一个全新版本——其工资满足对数正态分布。\n",
    "\n",
    "你可以通过从分布中取出大量的工资进行平均值计算，通过蒙特卡洛模拟法进行积分。\n",
    "\n",
    "对于参数设置，我们取$c = 25,\\beta  = 0.99,\\sigma = 0.5,\\mu = 2.5$。\n",
    "\n",
    "一旦你的代码成功了，试着探究保留工资如何随着$c$和$\\beta$的变化而变化。\n",
    "\n",
    "## 解答\n",
    "### 练习1"
   ]
  },
  {
   "cell_type": "code",
   "execution_count": 18,
   "id": "8e563f16",
   "metadata": {
    "ExecuteTime": {
     "end_time": "2021-09-25T05:23:04.664621Z",
     "start_time": "2021-09-25T05:23:00.132905Z"
    }
   },
   "outputs": [
    {
     "data": {
      "image/png": "[encoded data removed]",
      "text/plain": [
       "<Figure size 792x360 with 1 Axes>"
      ]
     },
     "metadata": {
      "needs_background": "light"
     },
     "output_type": "display_data"
    }
   ],
   "source": [
    "cdf = np.cumsum(q_default)\n",
    "\n",
    "@jit(nopython=True)\n",
    "def compute_stopping_time(w_bar, seed=1234):\n",
    "\n",
    "    np.random.seed(seed)\n",
    "    t = 1\n",
    "    while True:\n",
    "        # Generate a wage draw\n",
    "        w = w_default[qe.random.draw(cdf)]\n",
    "        # Stop when the draw is above the reservation wage\n",
    "        if w >= w_bar:\n",
    "            stopping_time = t\n",
    "            break\n",
    "        else:\n",
    "            t += 1\n",
    "    return stopping_time\n",
    "\n",
    "@jit(nopython=True)\n",
    "def compute_mean_stopping_time(w_bar, num_reps=100000):\n",
    "    obs = np.empty(num_reps)\n",
    "    for i in range(num_reps):\n",
    "        obs[i] = compute_stopping_time(w_bar, seed=i)\n",
    "    return obs.mean()\n",
    "\n",
    "c_vals = np.linspace(10, 40, 25)\n",
    "stop_times = np.empty_like(c_vals)\n",
    "for i, c in enumerate(c_vals):\n",
    "    mcm = McCallModel(c=c)\n",
    "    w_bar = compute_reservation_wage_two(mcm)\n",
    "    stop_times[i] = compute_mean_stopping_time(w_bar)\n",
    "\n",
    "fig, ax = plt.subplots()\n",
    "\n",
    "ax.plot(c_vals, stop_times, label=\"mean unemployment duration\")\n",
    "ax.set(xlabel=\"unemployment compensation\", ylabel=\"months\")\n",
    "ax.legend()\n",
    "\n",
    "plt.show()"
   ]
  },
  {
   "cell_type": "markdown",
   "id": "05fc3027",
   "metadata": {},
   "source": [
    "### 练习2"
   ]
  },
  {
   "cell_type": "code",
   "execution_count": 19,
   "id": "d455aaaa",
   "metadata": {
    "ExecuteTime": {
     "end_time": "2021-09-25T05:23:20.668481Z",
     "start_time": "2021-09-25T05:23:20.647997Z"
    }
   },
   "outputs": [],
   "source": [
    "mccall_data_continuous = [\n",
    "    ('c', float64),          # unemployment compensation\n",
    "    ('β', float64),          # discount factor\n",
    "    ('σ', float64),          # scale parameter in lognormal distribution\n",
    "    ('μ', float64),          # location parameter in lognormal distribution\n",
    "    ('w_draws', float64[:])  # draws of wages for Monte Carlo\n",
    "]\n",
    "\n",
    "@jitclass(mccall_data_continuous)\n",
    "class McCallModelContinuous:\n",
    "\n",
    "    def __init__(self, c=25, β=0.99, σ=0.5, μ=2.5, mc_size=1000):\n",
    "\n",
    "        self.c, self.β, self.σ, self.μ = c, β, σ, μ\n",
    "\n",
    "        # Draw and store shocks\n",
    "        np.random.seed(1234)\n",
    "        s = np.random.randn(mc_size)\n",
    "        self.w_draws = np.exp(μ+ σ * s)\n",
    "\n",
    "\n",
    "@jit(nopython=True)\n",
    "def compute_reservation_wage_continuous(mcmc, max_iter=500, tol=1e-5):\n",
    "\n",
    "    c, β, σ, μ, w_draws = mcmc.c, mcmc.β, mcmc.σ, mcmc.μ, mcmc.w_draws\n",
    "\n",
    "    h = np.mean(w_draws) / (1 - β)  # initial guess\n",
    "    i = 0\n",
    "    error = tol + 1\n",
    "    while i < max_iter and error > tol:\n",
    "\n",
    "        integral = np.mean(np.maximum(w_draws / (1 - β), h))\n",
    "        h_next = c + β * integral\n",
    "\n",
    "        error = np.abs(h_next - h)\n",
    "        i += 1\n",
    "\n",
    "        h = h_next\n",
    "\n",
    "    # == Now compute the reservation wage == #\n",
    "\n",
    "    return (1 - β) * h"
   ]
  },
  {
   "cell_type": "code",
   "execution_count": 20,
   "id": "c1ef7936",
   "metadata": {
    "ExecuteTime": {
     "end_time": "2021-09-25T05:23:29.377781Z",
     "start_time": "2021-09-25T05:23:28.539667Z"
    }
   },
   "outputs": [],
   "source": [
    "grid_size = 25\n",
    "R = np.empty((grid_size, grid_size))\n",
    "\n",
    "c_vals = np.linspace(10.0, 30.0, grid_size)\n",
    "β_vals = np.linspace(0.9, 0.99, grid_size)\n",
    "\n",
    "for i, c in enumerate(c_vals):\n",
    "    for j, β in enumerate(β_vals):\n",
    "        mcmc = McCallModelContinuous(c=c, β=β)\n",
    "        R[i, j] = compute_reservation_wage_continuous(mcmc)"
   ]
  },
  {
   "cell_type": "code",
   "execution_count": 21,
   "id": "54c7a23a",
   "metadata": {
    "ExecuteTime": {
     "end_time": "2021-09-25T05:23:32.563395Z",
     "start_time": "2021-09-25T05:23:32.374028Z"
    }
   },
   "outputs": [
    {
     "data": {
      "image/png": "[encoded data removed]",
      "text/plain": [
       "<Figure size 792x360 with 2 Axes>"
      ]
     },
     "metadata": {
      "needs_background": "light"
     },
     "output_type": "display_data"
    }
   ],
   "source": [
    "fig, ax = plt.subplots()\n",
    "\n",
    "cs1 = ax.contourf(c_vals, β_vals, R.T, alpha=0.75)\n",
    "ctr1 = ax.contour(c_vals, β_vals, R.T)\n",
    "\n",
    "plt.clabel(ctr1, inline=1, fontsize=13)\n",
    "plt.colorbar(cs1, ax=ax)\n",
    "\n",
    "\n",
    "ax.set_title(\"reservation wage\")\n",
    "ax.set_xlabel(\"$c$\", fontsize=16)\n",
    "ax.set_ylabel(\"$β$\", fontsize=16)\n",
    "\n",
    "ax.ticklabel_format(useOffset=False)\n",
    "\n",
    "plt.show()"
   ]
  },
  {
   "cell_type": "code",
   "execution_count": null,
   "id": "ba1b27da",
   "metadata": {},
   "outputs": [],
   "source": []
  }
 ],
 "metadata": {
  "kernelspec": {
   "display_name": "Python 3 (ipykernel)",
   "language": "python",
   "name": "python3"
  },
  "language_info": {
   "codemirror_mode": {
    "name": "ipython",
    "version": 3
   },
   "file_extension": ".py",
   "mimetype": "text/x-python",
   "name": "python",
   "nbconvert_exporter": "python",
   "pygments_lexer": "ipython3",
   "version": "3.9.12"
  },
  "toc": {
   "base_numbering": 1,
   "nav_menu": {},
   "number_sections": true,
   "sideBar": true,
   "skip_h1_title": false,
   "title_cell": "Table of Contents",
   "title_sidebar": "Contents",
   "toc_cell": false,
   "toc_position": {
    "height": "calc(100% - 180px)",
    "left": "10px",
    "top": "150px",
    "width": "320px"
   },
   "toc_section_display": true,
   "toc_window_display": true
  }
 },
 "nbformat": 4,
 "nbformat_minor": 5
}
